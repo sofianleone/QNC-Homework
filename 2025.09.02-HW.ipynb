{
 "cells": [
  {
   "cell_type": "markdown",
   "id": "031ca1cc",
   "metadata": {},
   "source": [
    "Exercise #1: If someone gets a positive test, is it \"statistically significant\" at the p<0.05 level? Why or why not?\n",
    " "
   ]
  },
  {
   "cell_type": "code",
   "execution_count": null,
   "id": "83273b33",
   "metadata": {},
   "outputs": [
    {
     "name": "stdout",
     "output_type": "stream",
     "text": [
      "The probability of a false positive is 0.05\n"
     ]
    }
   ],
   "source": [
    "# the question is asking, \"if a person in a sample of 1000 people tests positive for HIV, what is the probability that they actually have HIV, given that the false positive rate is 5%\"\n",
    "# unsure if I am understanding the question correctly, but with only that 1 data point, then the probability of a false positive is 5%, so it is not \"statistically significant\"\n",
    "# you can neither affirm nor reject the null hypothesis in this case\n",
    "\n",
    "false_positive_rate = 0.05\n",
    "print(f'The probability of a false positive is {false_positive_rate}')"
   ]
  },
  {
   "cell_type": "markdown",
   "id": "3ed69be0",
   "metadata": {},
   "source": [
    "Excercise #2: What is the probability that if someone gets a positive test, that person is infected?"
   ]
  },
  {
   "cell_type": "code",
   "execution_count": 23,
   "id": "0b06da5b",
   "metadata": {},
   "outputs": [
    {
     "name": "stdout",
     "output_type": "stream",
     "text": [
      "Infected and tested positive (true positive): 400.0\n",
      "Uninfected and tested positive (false positive): 30.0\n",
      "Infected and tested negative (false negative): 0.0\n",
      "Uninfected and tested negative (true negative): 570.0\n",
      "Probability that someone who tests positive is actually infected: 0.9302325581395349\n"
     ]
    }
   ],
   "source": [
    "import scipy.stats as stats\n",
    "import numpy as np\n",
    "\n",
    "n = 1000            #sample size\n",
    "fp_rate = 0.05      #false positive rate\n",
    "fn_rate = 0         #false negative rate\n",
    "prev_hiv = 0.40     #prevalence of HIV in the population\n",
    "\n",
    "# Calculate probabilities that is someone gets a positive test, they actually have HIV\n",
    "\n",
    "infected_positive = n * prev_hiv\n",
    "uninfected_positive = n * (1 - prev_hiv) * fp_rate\n",
    "infected_negative = n * prev_hiv * fn_rate\n",
    "uninfected_negative = n * (1 - prev_hiv) * (1 - fp_rate)\n",
    "\n",
    "print(f'Infected and tested positive (true positive): {infected_positive}')\n",
    "print(f'Uninfected and tested positive (false positive): {uninfected_positive}')\n",
    "print(f'Infected and tested negative (false negative): {infected_negative}')\n",
    "print(f'Uninfected and tested negative (true negative): {uninfected_negative}')\n",
    "\n",
    "total_positive = infected_positive + uninfected_positive\n",
    "prob_infected_given_positive = infected_positive / total_positive\n",
    "print(f'Probability that someone who tests positive is actually infected: {prob_infected_given_positive}')\n"
   ]
  },
  {
   "cell_type": "markdown",
   "id": "a5a85632",
   "metadata": {},
   "source": [
    "Following on Exercise #2, let's do the same thing, but this time we will try different values for the proportion of the population that is actually infected."
   ]
  },
  {
   "cell_type": "code",
   "execution_count": 31,
   "id": "e3ddba77",
   "metadata": {},
   "outputs": [
    {
     "name": "stdout",
     "output_type": "stream",
     "text": [
      "With a prevalence rate of 0.1, the probability that someone who tests positive is actually infected is: 0.6896551724137931\n",
      "With a prevalence rate of 0.4, the probability that someone who tests positive is actually infected is: 0.9302325581395349\n",
      "With a prevalence rate of 0.2, the probability that someone who tests positive is actually infected is: 0.8333333333333334\n",
      "With a prevalence rate of 0.3, the probability that someone who tests positive is actually infected is: 0.8955223880597015\n",
      "With a prevalence rate of 0.5, the probability that someone who tests positive is actually infected is: 0.9523809523809523\n",
      "With a prevalence rate of 0.6, the probability that someone who tests positive is actually infected is: 0.967741935483871\n",
      "With a prevalence rate of 0.7, the probability that someone who tests positive is actually infected is: 0.9790209790209791\n",
      "With a prevalence rate of 0.8, the probability that someone who tests positive is actually infected is: 0.9876543209876543\n",
      "With a prevalence rate of 0.9, the probability that someone who tests positive is actually infected is: 0.994475138121547\n"
     ]
    }
   ],
   "source": [
    "test_rates = {0.1, 0.2, 0.3, 0.4, 0.5, 0.6, 0.7, 0.8, 0.9}\n",
    "\n",
    "for rate in test_rates:\n",
    "    infected_positive = n * rate\n",
    "    uninfected_positive = n * (1 - rate) * fp_rate\n",
    "    infected_negative = n * rate * fn_rate\n",
    "    uninfected_negative = n * (1 - rate) * (1 - fp_rate)\n",
    "    prob_infected_given_positive = infected_positive / (infected_positive + uninfected_positive)\n",
    "    print(f'With a prevalence rate of {rate}, the probability that someone who tests positive is actually infected is: {prob_infected_given_positive}')"
   ]
  }
 ],
 "metadata": {
  "kernelspec": {
   "display_name": "Python 3",
   "language": "python",
   "name": "python3"
  },
  "language_info": {
   "codemirror_mode": {
    "name": "ipython",
    "version": 3
   },
   "file_extension": ".py",
   "mimetype": "text/x-python",
   "name": "python",
   "nbconvert_exporter": "python",
   "pygments_lexer": "ipython3",
   "version": "3.13.6"
  }
 },
 "nbformat": 4,
 "nbformat_minor": 5
}
